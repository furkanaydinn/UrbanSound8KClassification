{
  "nbformat": 4,
  "nbformat_minor": 0,
  "metadata": {
    "colab": {
      "provenance": [],
      "collapsed_sections": []
    },
    "kernelspec": {
      "name": "python3",
      "display_name": "Python 3"
    },
    "language_info": {
      "name": "python"
    },
    "accelerator": "GPU"
  },
  "cells": [
    {
      "cell_type": "code",
      "execution_count": 1,
      "metadata": {
        "colab": {
          "base_uri": "https://localhost:8080/"
        },
        "id": "pAgFMgwPZTGg",
        "outputId": "951980e8-67d2-40d9-cd5c-7f2317293f7b"
      },
      "outputs": [
        {
          "output_type": "stream",
          "name": "stdout",
          "text": [
            "Mounted at /content/drive/\n"
          ]
        }
      ],
      "source": [
        "from google.colab import drive\n",
        "drive.mount('/content/drive/')"
      ]
    },
    {
      "cell_type": "code",
      "source": [
        "!unzip -qq \"/content/drive/MyDrive/spectograms.zip\""
      ],
      "metadata": {
        "id": "VSPQQ5LkZc0w"
      },
      "execution_count": 3,
      "outputs": []
    },
    {
      "cell_type": "code",
      "source": [
        "import os\n",
        "import numpy as np\n",
        "import cv2\n",
        "import tensorflow as tf\n",
        "from sklearn.model_selection import train_test_split"
      ],
      "metadata": {
        "id": "P1ZCSyY2ZkK3"
      },
      "execution_count": 6,
      "outputs": []
    },
    {
      "cell_type": "code",
      "source": [
        "DIR = \"/content/spectograms\"\n",
        "l = [0,1,2,3,4,5,6,7,8,9]\n",
        "IMG_SIZE = 255 # Declare image size\n",
        "spects = []\n",
        "\n",
        "# Find and read each image through running on each folder\n",
        "for category in l: \n",
        "    path = os.path.join(DIR, str(category)) # Find the path of each folder\n",
        "    dirs = os.listdir(path) # Wander each folder\n",
        "    for img in dirs:\n",
        "        grayscaled_image = cv2.imread(os.path.join(path, img), cv2.IMREAD_GRAYSCALE) # Grayscaling transformation\n",
        "        norm_image = cv2.normalize(grayscaled_image, None, alpha=0, beta=1, norm_type=cv2.NORM_MINMAX, dtype=cv2.CV_32F) # Normalization\n",
        "        processed_image = cv2.resize(norm_image,(IMG_SIZE, IMG_SIZE)) # resizing \n",
        "        spects.append([processed_image, str(category)]) # Append preprocessed image and its label\n",
        "\n",
        "len(spects)"
      ],
      "metadata": {
        "colab": {
          "base_uri": "https://localhost:8080/"
        },
        "id": "BiQrLt4xZq2e",
        "outputId": "082b94ee-a5bc-4421-cce0-fb609320d0a4"
      },
      "execution_count": 8,
      "outputs": [
        {
          "output_type": "execute_result",
          "data": {
            "text/plain": [
              "8732"
            ]
          },
          "metadata": {},
          "execution_count": 8
        }
      ]
    },
    {
      "cell_type": "code",
      "source": [
        "X = [] # Verisetindeki özniteliklerin sınıflarından ayrılmış bir biçimde tutulması\n",
        "y = [] # Verisetindeki sınıfların tutulması\n",
        "for feature, label in spects:\n",
        "    X.append(feature)\n",
        "    y.append(label)"
      ],
      "metadata": {
        "id": "yAqW9JV6aN9U"
      },
      "execution_count": 9,
      "outputs": []
    },
    {
      "cell_type": "code",
      "source": [
        "X = np.array(X)\n",
        "y = np.array(y)\n",
        "\n",
        "X_train, X_test, y_train, y_test = train_test_split(X, y, test_size = 0.1)\n",
        "X_train, X_val, y_train, y_val = train_test_split(X_train, y_train, test_size = 0.11)\n",
        "\n",
        "import keras\n",
        "y_train = keras.utils.np_utils.to_categorical(y_train)\n",
        "y_test =  keras.utils.np_utils.to_categorical(y_test)\n",
        "y_val =   keras.utils.np_utils.to_categorical(y_val)\n"
      ],
      "metadata": {
        "id": "PppNCvMqaN-2"
      },
      "execution_count": 10,
      "outputs": []
    },
    {
      "cell_type": "code",
      "source": [
        "print(f\"Shape of training set: {X_train.shape}\")"
      ],
      "metadata": {
        "colab": {
          "base_uri": "https://localhost:8080/"
        },
        "id": "QSZV9QFudOIz",
        "outputId": "66d13131-a575-48f3-f056-6089863d73b4"
      },
      "execution_count": 11,
      "outputs": [
        {
          "output_type": "stream",
          "name": "stdout",
          "text": [
            "Shape of training set: (6993, 255, 255)\n"
          ]
        }
      ]
    },
    {
      "cell_type": "code",
      "source": [
        "\n",
        "model = tf.keras.Sequential()\n",
        "  \n",
        "model.add(tf.keras.layers.Conv2D(96, kernel_size = (3,3), input_shape = (255,255,1), strides = (4,4), activation = 'relu'))\n",
        "model.add(tf.keras.layers.BatchNormalization())\n",
        "model.add(tf.keras.layers.MaxPooling2D(pool_size = (3,3),strides = (2,2)))\n",
        "model.add(tf.keras.layers.Conv2D(filters=256, kernel_size=(5,5), strides=(1,1), activation='relu', padding=\"same\"))\n",
        "model.add(tf.keras.layers.BatchNormalization())\n",
        "\n",
        "model.add(tf.keras.layers.MaxPooling2D(pool_size=(3,3), strides=(2,2)))\n",
        "model.add(tf.keras.layers.Conv2D(filters=384, kernel_size=(3,3), strides=(1,1), activation='relu', padding=\"same\"))\n",
        "model.add(tf.keras.layers.BatchNormalization())\n",
        "model.add(tf.keras.layers.Conv2D(filters=384, kernel_size=(3,3), strides=(1,1), activation='relu', padding=\"same\"))\n",
        "model.add(tf.keras.layers.BatchNormalization())\n",
        "model.add(tf.keras.layers.Conv2D(filters=256, kernel_size=(3,3), strides=(1,1), activation='relu', padding=\"same\"))\n",
        "\n",
        "model.add(tf.keras.layers.BatchNormalization())\n",
        "model.add(tf.keras.layers.MaxPooling2D(pool_size=(3,3), strides=(2,2)))\n",
        "model.add(tf.keras.layers.Flatten())\n",
        "model.add(tf.keras.layers.Dense(4096, activation='relu'))\n",
        "\n",
        "model.add(tf.keras.layers.Dropout(0.5))\n",
        "model.add(tf.keras.layers.Dense(4096, activation='relu'))\n",
        "model.add(tf.keras.layers.Dropout(0.5))\n",
        "model.add(tf.keras.layers.Flatten())\n",
        "model.add(tf.keras.layers.Dense(10, activation='softmax'))"
      ],
      "metadata": {
        "id": "D_usG3BjdVL-"
      },
      "execution_count": 12,
      "outputs": []
    },
    {
      "cell_type": "code",
      "source": [
        "model.compile(optimizer=\"adam\",\n",
        "              loss=\"categorical_crossentropy\",\n",
        "              metrics = [\"accuracy\"])"
      ],
      "metadata": {
        "id": "41XxUXcxgLqs"
      },
      "execution_count": 13,
      "outputs": []
    },
    {
      "cell_type": "code",
      "source": [
        "print(f\"X train type {type(X_train)} y train type {type(y_train)} X_test type {type(X_test)} y_test {type(y_test)} X_val {type(X_val)} y_val {type(y_val)}\")"
      ],
      "metadata": {
        "colab": {
          "base_uri": "https://localhost:8080/"
        },
        "id": "q1LJNjsojIg-",
        "outputId": "aea2addd-104c-4f9f-f9ca-812a7d6af363"
      },
      "execution_count": 15,
      "outputs": [
        {
          "output_type": "stream",
          "name": "stdout",
          "text": [
            "X train type <class 'numpy.ndarray'> y train type <class 'numpy.ndarray'> X_test type <class 'numpy.ndarray'> y_test <class 'numpy.ndarray'> X_val <class 'numpy.ndarray'> y_val <class 'numpy.ndarray'>\n"
          ]
        }
      ]
    },
    {
      "cell_type": "code",
      "source": [
        "results = model.fit(X_train,y_train,\n",
        "                    batch_size=128,\n",
        "                    epochs=50,\n",
        "                    validation_data=(X_val,y_val))"
      ],
      "metadata": {
        "colab": {
          "base_uri": "https://localhost:8080/"
        },
        "id": "Wo-xo6L2gRli",
        "outputId": "bde4b19a-7bd3-47a3-e83f-d7f113a80635"
      },
      "execution_count": 16,
      "outputs": [
        {
          "output_type": "stream",
          "name": "stdout",
          "text": [
            "Epoch 1/50\n",
            "55/55 [==============================] - 30s 302ms/step - loss: 7.2304 - accuracy: 0.2680 - val_loss: 27.5303 - val_accuracy: 0.1075\n",
            "Epoch 2/50\n",
            "55/55 [==============================] - 9s 173ms/step - loss: 1.8412 - accuracy: 0.3433 - val_loss: 30.0961 - val_accuracy: 0.1087\n",
            "Epoch 3/50\n",
            "55/55 [==============================] - 10s 173ms/step - loss: 1.7375 - accuracy: 0.3691 - val_loss: 36.3932 - val_accuracy: 0.1087\n",
            "Epoch 4/50\n",
            "55/55 [==============================] - 10s 176ms/step - loss: 1.6854 - accuracy: 0.3915 - val_loss: 23.1149 - val_accuracy: 0.0867\n",
            "Epoch 5/50\n",
            "55/55 [==============================] - 10s 177ms/step - loss: 1.6396 - accuracy: 0.4077 - val_loss: 20.1470 - val_accuracy: 0.1087\n",
            "Epoch 6/50\n",
            "55/55 [==============================] - 10s 179ms/step - loss: 1.5811 - accuracy: 0.4402 - val_loss: 15.0453 - val_accuracy: 0.0775\n",
            "Epoch 7/50\n",
            "55/55 [==============================] - 10s 180ms/step - loss: 1.5228 - accuracy: 0.4575 - val_loss: 12.2852 - val_accuracy: 0.0543\n",
            "Epoch 8/50\n",
            "55/55 [==============================] - 10s 182ms/step - loss: 1.4900 - accuracy: 0.4750 - val_loss: 12.9090 - val_accuracy: 0.0821\n",
            "Epoch 9/50\n",
            "55/55 [==============================] - 10s 181ms/step - loss: 1.4390 - accuracy: 0.4969 - val_loss: 8.8053 - val_accuracy: 0.0486\n",
            "Epoch 10/50\n",
            "55/55 [==============================] - 10s 180ms/step - loss: 1.4053 - accuracy: 0.5207 - val_loss: 8.3839 - val_accuracy: 0.0624\n",
            "Epoch 11/50\n",
            "55/55 [==============================] - 10s 180ms/step - loss: 1.3285 - accuracy: 0.5311 - val_loss: 2.9765 - val_accuracy: 0.2231\n",
            "Epoch 12/50\n",
            "55/55 [==============================] - 10s 179ms/step - loss: 1.2279 - accuracy: 0.5677 - val_loss: 1.9841 - val_accuracy: 0.2994\n",
            "Epoch 13/50\n",
            "55/55 [==============================] - 10s 184ms/step - loss: 1.1913 - accuracy: 0.6013 - val_loss: 1.5391 - val_accuracy: 0.5191\n",
            "Epoch 14/50\n",
            "55/55 [==============================] - 10s 184ms/step - loss: 1.1435 - accuracy: 0.6026 - val_loss: 1.8401 - val_accuracy: 0.4578\n",
            "Epoch 15/50\n",
            "55/55 [==============================] - 10s 181ms/step - loss: 1.1181 - accuracy: 0.6198 - val_loss: 1.4033 - val_accuracy: 0.5526\n",
            "Epoch 16/50\n",
            "55/55 [==============================] - 10s 181ms/step - loss: 1.0773 - accuracy: 0.6325 - val_loss: 1.4998 - val_accuracy: 0.4671\n",
            "Epoch 17/50\n",
            "55/55 [==============================] - 10s 181ms/step - loss: 1.0414 - accuracy: 0.6462 - val_loss: 1.2923 - val_accuracy: 0.5653\n",
            "Epoch 18/50\n",
            "55/55 [==============================] - 10s 180ms/step - loss: 0.9953 - accuracy: 0.6577 - val_loss: 1.1993 - val_accuracy: 0.5919\n",
            "Epoch 19/50\n",
            "55/55 [==============================] - 10s 180ms/step - loss: 0.8998 - accuracy: 0.6924 - val_loss: 1.4161 - val_accuracy: 0.4913\n",
            "Epoch 20/50\n",
            "55/55 [==============================] - 10s 184ms/step - loss: 0.8873 - accuracy: 0.6980 - val_loss: 1.0640 - val_accuracy: 0.6439\n",
            "Epoch 21/50\n",
            "55/55 [==============================] - 10s 180ms/step - loss: 0.8874 - accuracy: 0.7087 - val_loss: 1.6695 - val_accuracy: 0.5006\n",
            "Epoch 22/50\n",
            "55/55 [==============================] - 10s 180ms/step - loss: 0.9013 - accuracy: 0.7008 - val_loss: 1.3314 - val_accuracy: 0.5896\n",
            "Epoch 23/50\n",
            "55/55 [==============================] - 10s 181ms/step - loss: 0.8568 - accuracy: 0.7183 - val_loss: 1.0661 - val_accuracy: 0.6486\n",
            "Epoch 24/50\n",
            "55/55 [==============================] - 10s 181ms/step - loss: 0.8591 - accuracy: 0.7101 - val_loss: 2.3843 - val_accuracy: 0.4497\n",
            "Epoch 25/50\n",
            "55/55 [==============================] - 10s 181ms/step - loss: 0.7923 - accuracy: 0.7463 - val_loss: 0.9747 - val_accuracy: 0.6902\n",
            "Epoch 26/50\n",
            "55/55 [==============================] - 10s 180ms/step - loss: 0.7550 - accuracy: 0.7546 - val_loss: 1.4477 - val_accuracy: 0.4925\n",
            "Epoch 27/50\n",
            "55/55 [==============================] - 10s 180ms/step - loss: 0.7122 - accuracy: 0.7635 - val_loss: 0.8133 - val_accuracy: 0.7757\n",
            "Epoch 28/50\n",
            "55/55 [==============================] - 10s 180ms/step - loss: 0.6980 - accuracy: 0.7665 - val_loss: 1.0037 - val_accuracy: 0.6983\n",
            "Epoch 29/50\n",
            "55/55 [==============================] - 10s 180ms/step - loss: 0.7307 - accuracy: 0.7652 - val_loss: 1.5055 - val_accuracy: 0.5607\n",
            "Epoch 30/50\n",
            "55/55 [==============================] - 10s 180ms/step - loss: 0.7219 - accuracy: 0.7748 - val_loss: 0.8769 - val_accuracy: 0.7214\n",
            "Epoch 31/50\n",
            "55/55 [==============================] - 10s 180ms/step - loss: 0.6410 - accuracy: 0.7841 - val_loss: 1.0779 - val_accuracy: 0.6220\n",
            "Epoch 32/50\n",
            "55/55 [==============================] - 10s 180ms/step - loss: 0.6375 - accuracy: 0.7929 - val_loss: 0.9137 - val_accuracy: 0.7318\n",
            "Epoch 33/50\n",
            "55/55 [==============================] - 10s 184ms/step - loss: 0.6209 - accuracy: 0.7945 - val_loss: 0.8044 - val_accuracy: 0.7653\n",
            "Epoch 34/50\n",
            "55/55 [==============================] - 10s 180ms/step - loss: 0.5766 - accuracy: 0.8138 - val_loss: 2.6381 - val_accuracy: 0.3965\n",
            "Epoch 35/50\n",
            "55/55 [==============================] - 10s 180ms/step - loss: 0.5782 - accuracy: 0.8131 - val_loss: 1.9017 - val_accuracy: 0.5318\n",
            "Epoch 36/50\n",
            "55/55 [==============================] - 10s 180ms/step - loss: 0.5991 - accuracy: 0.8160 - val_loss: 1.1881 - val_accuracy: 0.6289\n",
            "Epoch 37/50\n",
            "55/55 [==============================] - 10s 184ms/step - loss: 0.6426 - accuracy: 0.8029 - val_loss: 1.4925 - val_accuracy: 0.4775\n",
            "Epoch 38/50\n",
            "55/55 [==============================] - 10s 180ms/step - loss: 0.6418 - accuracy: 0.8035 - val_loss: 2.5157 - val_accuracy: 0.5815\n",
            "Epoch 39/50\n",
            "55/55 [==============================] - 10s 180ms/step - loss: 0.6242 - accuracy: 0.8047 - val_loss: 1.3989 - val_accuracy: 0.6647\n",
            "Epoch 40/50\n",
            "55/55 [==============================] - 10s 180ms/step - loss: 0.5836 - accuracy: 0.8214 - val_loss: 1.5871 - val_accuracy: 0.6462\n",
            "Epoch 41/50\n",
            "55/55 [==============================] - 10s 181ms/step - loss: 0.6673 - accuracy: 0.7997 - val_loss: 1.1111 - val_accuracy: 0.6659\n",
            "Epoch 42/50\n",
            "55/55 [==============================] - 10s 180ms/step - loss: 0.5809 - accuracy: 0.8195 - val_loss: 1.2258 - val_accuracy: 0.6347\n",
            "Epoch 43/50\n",
            "55/55 [==============================] - 10s 180ms/step - loss: 0.5967 - accuracy: 0.8161 - val_loss: 1.0477 - val_accuracy: 0.7064\n",
            "Epoch 44/50\n",
            "55/55 [==============================] - 10s 180ms/step - loss: 0.5524 - accuracy: 0.8294 - val_loss: 1.1858 - val_accuracy: 0.6324\n",
            "Epoch 45/50\n",
            "55/55 [==============================] - 10s 180ms/step - loss: 0.5266 - accuracy: 0.8373 - val_loss: 0.7452 - val_accuracy: 0.7896\n",
            "Epoch 46/50\n",
            "55/55 [==============================] - 10s 180ms/step - loss: 0.4446 - accuracy: 0.8649 - val_loss: 1.2201 - val_accuracy: 0.5850\n",
            "Epoch 47/50\n",
            "55/55 [==============================] - 10s 180ms/step - loss: 0.5763 - accuracy: 0.8367 - val_loss: 0.8715 - val_accuracy: 0.7514\n",
            "Epoch 48/50\n",
            "55/55 [==============================] - 10s 184ms/step - loss: 0.4694 - accuracy: 0.8623 - val_loss: 0.9067 - val_accuracy: 0.7422\n",
            "Epoch 49/50\n",
            "55/55 [==============================] - 10s 184ms/step - loss: 0.4453 - accuracy: 0.8644 - val_loss: 0.7105 - val_accuracy: 0.8092\n",
            "Epoch 50/50\n",
            "55/55 [==============================] - 10s 180ms/step - loss: 0.4171 - accuracy: 0.8757 - val_loss: 1.4353 - val_accuracy: 0.6197\n"
          ]
        }
      ]
    },
    {
      "cell_type": "code",
      "source": [
        "import matplotlib.pyplot as plt\n",
        "# Plot the the training loss\n",
        "plt.plot(results.history[\"loss\"], label=\"loss\")\n",
        "\n",
        "# Plot the the validation loss\n",
        "plt.plot(results.history[\"val_loss\"], label=\"val_loss\")\n",
        "\n",
        "# Name the x and y axises\n",
        "plt.xlabel(\"Epoch\")\n",
        "plt.ylabel(\"Loss\")\n",
        "# Put legend table\n",
        "plt.legend()\n",
        "\n",
        "# Show the plot\n",
        "plt.show()"
      ],
      "metadata": {
        "id": "Wskg32wWgUTR",
        "colab": {
          "base_uri": "https://localhost:8080/",
          "height": 279
        },
        "outputId": "93df0992-1743-42d7-ba0d-02b30d75e995"
      },
      "execution_count": 17,
      "outputs": [
        {
          "output_type": "display_data",
          "data": {
            "text/plain": [
              "<Figure size 432x288 with 1 Axes>"
            ],
            "image/png": "[encoded data removed]"
          },
          "metadata": {
            "needs_background": "light"
          }
        }
      ]
    },
    {
      "cell_type": "code",
      "source": [
        "# Plot the the training accuracy\n",
        "plt.plot(results.history[\"accuracy\"], label=\"accuracy\")\n",
        "\n",
        "# Plot the the validation accuracy\n",
        "plt.plot(results.history[\"val_accuracy\"], label=\"val_accuracy\")\n",
        "\n",
        "# Name the x and y axises\n",
        "plt.xlabel(\"Epoch\")\n",
        "plt.ylabel(\"Loss\")\n",
        "\n",
        "# Put legend table\n",
        "plt.legend()\n",
        "\n",
        "# Show the plot\n",
        "plt.show()"
      ],
      "metadata": {
        "id": "SD83uEFQvyPh",
        "colab": {
          "base_uri": "https://localhost:8080/",
          "height": 279
        },
        "outputId": "85d86fd3-f48d-4321-8706-6cf2c7509501"
      },
      "execution_count": 18,
      "outputs": [
        {
          "output_type": "display_data",
          "data": {
            "text/plain": [
              "<Figure size 432x288 with 1 Axes>"
            ],
            "image/png": "[encoded data removed]"
          },
          "metadata": {
            "needs_background": "light"
          }
        }
      ]
    },
    {
      "cell_type": "code",
      "source": [
        "model.evaluate(X_test,y_test)"
      ],
      "metadata": {
        "id": "sZo1oKmRv_Ue",
        "colab": {
          "base_uri": "https://localhost:8080/"
        },
        "outputId": "d4a0e590-84aa-4540-e718-739a8bfb7b6c"
      },
      "execution_count": 19,
      "outputs": [
        {
          "output_type": "stream",
          "name": "stdout",
          "text": [
            "28/28 [==============================] - 2s 34ms/step - loss: 1.5089 - accuracy: 0.6259\n"
          ]
        },
        {
          "output_type": "execute_result",
          "data": {
            "text/plain": [
              "[1.508872151374817, 0.6258581280708313]"
            ]
          },
          "metadata": {},
          "execution_count": 19
        }
      ]
    }
  ]
}